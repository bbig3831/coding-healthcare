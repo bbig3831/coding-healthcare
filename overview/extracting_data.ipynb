{
 "cells": [
  {
   "cell_type": "code",
   "execution_count": 1,
   "id": "a70d36f5-d725-470a-9501-f0c3bfab0926",
   "metadata": {},
   "outputs": [],
   "source": [
    "%matplotlib inline\n",
    "import re\n",
    "import pandas as pd"
   ]
  },
  {
   "cell_type": "code",
   "execution_count": 2,
   "id": "c42d06b7-f134-4a33-92a6-b360b6b01b71",
   "metadata": {},
   "outputs": [],
   "source": [
    "with open('../data/VA_My_HealtheVet_Blue_Button_Sample_Version_12_10.txt') as f:\n",
    "    content = f.readlines()"
   ]
  },
  {
   "cell_type": "code",
   "execution_count": 3,
   "id": "f358750c-a97e-40fe-abe7-f606f0bbca4c",
   "metadata": {},
   "outputs": [],
   "source": [
    "full_doc = \"\".join(content)"
   ]
  },
  {
   "cell_type": "code",
   "execution_count": 4,
   "id": "008bc765-b5db-4029-aeeb-0049df01076e",
   "metadata": {},
   "outputs": [],
   "source": [
    "search_string = \"Immunization:\\s+(.*?)\\s+.*?Date Received:\\s+(.*?)$\""
   ]
  },
  {
   "cell_type": "code",
   "execution_count": 5,
   "id": "3629fbd4-06c6-4ecb-8eef-b080dedea1f3",
   "metadata": {},
   "outputs": [],
   "source": [
    "results = re.findall(search_string, full_doc, re.DOTALL | re.MULTILINE)"
   ]
  },
  {
   "cell_type": "code",
   "execution_count": 6,
   "id": "caed239b-d992-4790-93c3-90cd943d2f3d",
   "metadata": {},
   "outputs": [
    {
     "data": {
      "text/plain": [
       "[('INFLUENZA-H1N1-09,', '07 Dec 2012 @ 1155'),\n",
       " ('INFLUENZA-H1N1-09,', '01 Oct 2012 @ 1200'),\n",
       " ('PNEUMOCOCCAL', '06 Mar 2011 @ 0900'),\n",
       " ('PNEUMOVAX', '06 Mar 2011 @ 0900'),\n",
       " ('TETANUS', '07 Dec 2012 @ 1155'),\n",
       " ('Tetanus', '07 Jan 2013'),\n",
       " ('Tetanus', '18 Jul 2010')]"
      ]
     },
     "execution_count": 6,
     "metadata": {},
     "output_type": "execute_result"
    }
   ],
   "source": [
    "results"
   ]
  },
  {
   "cell_type": "code",
   "execution_count": 7,
   "id": "1e64ab90-290c-4121-b03f-44123fb189d2",
   "metadata": {},
   "outputs": [],
   "source": [
    "vax_df = pd.DataFrame(results, columns=['vaccine', 'vax_date'])"
   ]
  },
  {
   "cell_type": "code",
   "execution_count": 8,
   "id": "6ff764de-8823-42ae-b135-944d7d5c9869",
   "metadata": {},
   "outputs": [
    {
     "data": {
      "text/html": [
       "<div>\n",
       "<style scoped>\n",
       "    .dataframe tbody tr th:only-of-type {\n",
       "        vertical-align: middle;\n",
       "    }\n",
       "\n",
       "    .dataframe tbody tr th {\n",
       "        vertical-align: top;\n",
       "    }\n",
       "\n",
       "    .dataframe thead th {\n",
       "        text-align: right;\n",
       "    }\n",
       "</style>\n",
       "<table border=\"1\" class=\"dataframe\">\n",
       "  <thead>\n",
       "    <tr style=\"text-align: right;\">\n",
       "      <th></th>\n",
       "      <th>vaccine</th>\n",
       "      <th>vax_date</th>\n",
       "    </tr>\n",
       "  </thead>\n",
       "  <tbody>\n",
       "    <tr>\n",
       "      <th>0</th>\n",
       "      <td>INFLUENZA-H1N1-09,</td>\n",
       "      <td>07 Dec 2012 @ 1155</td>\n",
       "    </tr>\n",
       "    <tr>\n",
       "      <th>1</th>\n",
       "      <td>INFLUENZA-H1N1-09,</td>\n",
       "      <td>01 Oct 2012 @ 1200</td>\n",
       "    </tr>\n",
       "    <tr>\n",
       "      <th>2</th>\n",
       "      <td>PNEUMOCOCCAL</td>\n",
       "      <td>06 Mar 2011 @ 0900</td>\n",
       "    </tr>\n",
       "    <tr>\n",
       "      <th>3</th>\n",
       "      <td>PNEUMOVAX</td>\n",
       "      <td>06 Mar 2011 @ 0900</td>\n",
       "    </tr>\n",
       "    <tr>\n",
       "      <th>4</th>\n",
       "      <td>TETANUS</td>\n",
       "      <td>07 Dec 2012 @ 1155</td>\n",
       "    </tr>\n",
       "    <tr>\n",
       "      <th>5</th>\n",
       "      <td>Tetanus</td>\n",
       "      <td>07 Jan 2013</td>\n",
       "    </tr>\n",
       "    <tr>\n",
       "      <th>6</th>\n",
       "      <td>Tetanus</td>\n",
       "      <td>18 Jul 2010</td>\n",
       "    </tr>\n",
       "  </tbody>\n",
       "</table>\n",
       "</div>"
      ],
      "text/plain": [
       "              vaccine            vax_date\n",
       "0  INFLUENZA-H1N1-09,  07 Dec 2012 @ 1155\n",
       "1  INFLUENZA-H1N1-09,  01 Oct 2012 @ 1200\n",
       "2        PNEUMOCOCCAL  06 Mar 2011 @ 0900\n",
       "3           PNEUMOVAX  06 Mar 2011 @ 0900\n",
       "4             TETANUS  07 Dec 2012 @ 1155\n",
       "5             Tetanus         07 Jan 2013\n",
       "6             Tetanus         18 Jul 2010"
      ]
     },
     "execution_count": 8,
     "metadata": {},
     "output_type": "execute_result"
    }
   ],
   "source": [
    "vax_df"
   ]
  },
  {
   "cell_type": "code",
   "execution_count": 9,
   "id": "ebdb8dad-450f-462e-be60-e98e83752ffe",
   "metadata": {},
   "outputs": [],
   "source": [
    "def strip_extra(s):\n",
    "    if \"@\" in s:\n",
    "        cutoff = s.index('@')\n",
    "        s = s[:cutoff]\n",
    "    return s"
   ]
  },
  {
   "cell_type": "code",
   "execution_count": 10,
   "id": "945c988e-9065-4940-a844-a2ab007aab1d",
   "metadata": {},
   "outputs": [],
   "source": [
    "vax_df['date'] = vax_df.vax_date.apply(lambda x: pd.Timestamp(strip_extra(x)))"
   ]
  },
  {
   "cell_type": "code",
   "execution_count": 11,
   "id": "47ef403d-4354-41a8-8457-3f2a902c5c45",
   "metadata": {},
   "outputs": [
    {
     "data": {
      "text/html": [
       "<div>\n",
       "<style scoped>\n",
       "    .dataframe tbody tr th:only-of-type {\n",
       "        vertical-align: middle;\n",
       "    }\n",
       "\n",
       "    .dataframe tbody tr th {\n",
       "        vertical-align: top;\n",
       "    }\n",
       "\n",
       "    .dataframe thead th {\n",
       "        text-align: right;\n",
       "    }\n",
       "</style>\n",
       "<table border=\"1\" class=\"dataframe\">\n",
       "  <thead>\n",
       "    <tr style=\"text-align: right;\">\n",
       "      <th></th>\n",
       "      <th>vaccine</th>\n",
       "      <th>vax_date</th>\n",
       "      <th>date</th>\n",
       "    </tr>\n",
       "  </thead>\n",
       "  <tbody>\n",
       "    <tr>\n",
       "      <th>0</th>\n",
       "      <td>INFLUENZA-H1N1-09,</td>\n",
       "      <td>07 Dec 2012 @ 1155</td>\n",
       "      <td>2012-12-07</td>\n",
       "    </tr>\n",
       "    <tr>\n",
       "      <th>1</th>\n",
       "      <td>INFLUENZA-H1N1-09,</td>\n",
       "      <td>01 Oct 2012 @ 1200</td>\n",
       "      <td>2012-10-01</td>\n",
       "    </tr>\n",
       "    <tr>\n",
       "      <th>2</th>\n",
       "      <td>PNEUMOCOCCAL</td>\n",
       "      <td>06 Mar 2011 @ 0900</td>\n",
       "      <td>2011-03-06</td>\n",
       "    </tr>\n",
       "    <tr>\n",
       "      <th>3</th>\n",
       "      <td>PNEUMOVAX</td>\n",
       "      <td>06 Mar 2011 @ 0900</td>\n",
       "      <td>2011-03-06</td>\n",
       "    </tr>\n",
       "    <tr>\n",
       "      <th>4</th>\n",
       "      <td>TETANUS</td>\n",
       "      <td>07 Dec 2012 @ 1155</td>\n",
       "      <td>2012-12-07</td>\n",
       "    </tr>\n",
       "    <tr>\n",
       "      <th>5</th>\n",
       "      <td>Tetanus</td>\n",
       "      <td>07 Jan 2013</td>\n",
       "      <td>2013-01-07</td>\n",
       "    </tr>\n",
       "    <tr>\n",
       "      <th>6</th>\n",
       "      <td>Tetanus</td>\n",
       "      <td>18 Jul 2010</td>\n",
       "      <td>2010-07-18</td>\n",
       "    </tr>\n",
       "  </tbody>\n",
       "</table>\n",
       "</div>"
      ],
      "text/plain": [
       "              vaccine            vax_date       date\n",
       "0  INFLUENZA-H1N1-09,  07 Dec 2012 @ 1155 2012-12-07\n",
       "1  INFLUENZA-H1N1-09,  01 Oct 2012 @ 1200 2012-10-01\n",
       "2        PNEUMOCOCCAL  06 Mar 2011 @ 0900 2011-03-06\n",
       "3           PNEUMOVAX  06 Mar 2011 @ 0900 2011-03-06\n",
       "4             TETANUS  07 Dec 2012 @ 1155 2012-12-07\n",
       "5             Tetanus         07 Jan 2013 2013-01-07\n",
       "6             Tetanus         18 Jul 2010 2010-07-18"
      ]
     },
     "execution_count": 11,
     "metadata": {},
     "output_type": "execute_result"
    }
   ],
   "source": [
    "vax_df"
   ]
  },
  {
   "cell_type": "code",
   "execution_count": 12,
   "id": "94fb23d2-1848-4511-987a-8d933ebcab0f",
   "metadata": {},
   "outputs": [],
   "source": [
    "vax_df['clinically_documented'] = vax_df.vax_date.apply(lambda x: '@' in x)"
   ]
  },
  {
   "cell_type": "code",
   "execution_count": 13,
   "id": "d2148caa-5720-4957-a823-893c45050df6",
   "metadata": {},
   "outputs": [],
   "source": [
    "vax_df.sort_values('date', inplace=True)"
   ]
  },
  {
   "cell_type": "code",
   "execution_count": 14,
   "id": "6bb94bd3-b80d-4df9-bcbd-47cd4e4ff6a2",
   "metadata": {},
   "outputs": [
    {
     "data": {
      "text/html": [
       "<div>\n",
       "<style scoped>\n",
       "    .dataframe tbody tr th:only-of-type {\n",
       "        vertical-align: middle;\n",
       "    }\n",
       "\n",
       "    .dataframe tbody tr th {\n",
       "        vertical-align: top;\n",
       "    }\n",
       "\n",
       "    .dataframe thead th {\n",
       "        text-align: right;\n",
       "    }\n",
       "</style>\n",
       "<table border=\"1\" class=\"dataframe\">\n",
       "  <thead>\n",
       "    <tr style=\"text-align: right;\">\n",
       "      <th></th>\n",
       "      <th>vaccine</th>\n",
       "      <th>vax_date</th>\n",
       "      <th>date</th>\n",
       "      <th>clinically_documented</th>\n",
       "    </tr>\n",
       "  </thead>\n",
       "  <tbody>\n",
       "    <tr>\n",
       "      <th>6</th>\n",
       "      <td>Tetanus</td>\n",
       "      <td>18 Jul 2010</td>\n",
       "      <td>2010-07-18</td>\n",
       "      <td>False</td>\n",
       "    </tr>\n",
       "    <tr>\n",
       "      <th>2</th>\n",
       "      <td>PNEUMOCOCCAL</td>\n",
       "      <td>06 Mar 2011 @ 0900</td>\n",
       "      <td>2011-03-06</td>\n",
       "      <td>True</td>\n",
       "    </tr>\n",
       "    <tr>\n",
       "      <th>3</th>\n",
       "      <td>PNEUMOVAX</td>\n",
       "      <td>06 Mar 2011 @ 0900</td>\n",
       "      <td>2011-03-06</td>\n",
       "      <td>True</td>\n",
       "    </tr>\n",
       "    <tr>\n",
       "      <th>1</th>\n",
       "      <td>INFLUENZA-H1N1-09,</td>\n",
       "      <td>01 Oct 2012 @ 1200</td>\n",
       "      <td>2012-10-01</td>\n",
       "      <td>True</td>\n",
       "    </tr>\n",
       "    <tr>\n",
       "      <th>0</th>\n",
       "      <td>INFLUENZA-H1N1-09,</td>\n",
       "      <td>07 Dec 2012 @ 1155</td>\n",
       "      <td>2012-12-07</td>\n",
       "      <td>True</td>\n",
       "    </tr>\n",
       "    <tr>\n",
       "      <th>4</th>\n",
       "      <td>TETANUS</td>\n",
       "      <td>07 Dec 2012 @ 1155</td>\n",
       "      <td>2012-12-07</td>\n",
       "      <td>True</td>\n",
       "    </tr>\n",
       "    <tr>\n",
       "      <th>5</th>\n",
       "      <td>Tetanus</td>\n",
       "      <td>07 Jan 2013</td>\n",
       "      <td>2013-01-07</td>\n",
       "      <td>False</td>\n",
       "    </tr>\n",
       "  </tbody>\n",
       "</table>\n",
       "</div>"
      ],
      "text/plain": [
       "              vaccine            vax_date       date  clinically_documented\n",
       "6             Tetanus         18 Jul 2010 2010-07-18                  False\n",
       "2        PNEUMOCOCCAL  06 Mar 2011 @ 0900 2011-03-06                   True\n",
       "3           PNEUMOVAX  06 Mar 2011 @ 0900 2011-03-06                   True\n",
       "1  INFLUENZA-H1N1-09,  01 Oct 2012 @ 1200 2012-10-01                   True\n",
       "0  INFLUENZA-H1N1-09,  07 Dec 2012 @ 1155 2012-12-07                   True\n",
       "4             TETANUS  07 Dec 2012 @ 1155 2012-12-07                   True\n",
       "5             Tetanus         07 Jan 2013 2013-01-07                  False"
      ]
     },
     "execution_count": 14,
     "metadata": {},
     "output_type": "execute_result"
    }
   ],
   "source": [
    "vax_df"
   ]
  },
  {
   "cell_type": "code",
   "execution_count": 15,
   "id": "16ce76bf-c41f-4e28-83ac-74f7c7dfbd0b",
   "metadata": {},
   "outputs": [],
   "source": [
    "vax_df['vaccine_matching'] = vax_df.vaccine.apply(lambda x: x[:6].upper())"
   ]
  },
  {
   "cell_type": "code",
   "execution_count": 16,
   "id": "4b00ea16-8a38-4853-9635-622d18e04bfb",
   "metadata": {},
   "outputs": [
    {
     "data": {
      "text/html": [
       "<div>\n",
       "<style scoped>\n",
       "    .dataframe tbody tr th:only-of-type {\n",
       "        vertical-align: middle;\n",
       "    }\n",
       "\n",
       "    .dataframe tbody tr th {\n",
       "        vertical-align: top;\n",
       "    }\n",
       "\n",
       "    .dataframe thead th {\n",
       "        text-align: right;\n",
       "    }\n",
       "</style>\n",
       "<table border=\"1\" class=\"dataframe\">\n",
       "  <thead>\n",
       "    <tr style=\"text-align: right;\">\n",
       "      <th></th>\n",
       "      <th>vaccine</th>\n",
       "      <th>vax_date</th>\n",
       "      <th>date</th>\n",
       "      <th>clinically_documented</th>\n",
       "    </tr>\n",
       "    <tr>\n",
       "      <th>vaccine_matching</th>\n",
       "      <th></th>\n",
       "      <th></th>\n",
       "      <th></th>\n",
       "      <th></th>\n",
       "    </tr>\n",
       "  </thead>\n",
       "  <tbody>\n",
       "    <tr>\n",
       "      <th>TETANU</th>\n",
       "      <td>Tetanus</td>\n",
       "      <td>18 Jul 2010</td>\n",
       "      <td>2010-07-18</td>\n",
       "      <td>False</td>\n",
       "    </tr>\n",
       "    <tr>\n",
       "      <th>PNEUMO</th>\n",
       "      <td>PNEUMOCOCCAL</td>\n",
       "      <td>06 Mar 2011 @ 0900</td>\n",
       "      <td>2011-03-06</td>\n",
       "      <td>True</td>\n",
       "    </tr>\n",
       "    <tr>\n",
       "      <th>PNEUMO</th>\n",
       "      <td>PNEUMOVAX</td>\n",
       "      <td>06 Mar 2011 @ 0900</td>\n",
       "      <td>2011-03-06</td>\n",
       "      <td>True</td>\n",
       "    </tr>\n",
       "    <tr>\n",
       "      <th>INFLUE</th>\n",
       "      <td>INFLUENZA-H1N1-09,</td>\n",
       "      <td>01 Oct 2012 @ 1200</td>\n",
       "      <td>2012-10-01</td>\n",
       "      <td>True</td>\n",
       "    </tr>\n",
       "    <tr>\n",
       "      <th>INFLUE</th>\n",
       "      <td>INFLUENZA-H1N1-09,</td>\n",
       "      <td>07 Dec 2012 @ 1155</td>\n",
       "      <td>2012-12-07</td>\n",
       "      <td>True</td>\n",
       "    </tr>\n",
       "    <tr>\n",
       "      <th>TETANU</th>\n",
       "      <td>TETANUS</td>\n",
       "      <td>07 Dec 2012 @ 1155</td>\n",
       "      <td>2012-12-07</td>\n",
       "      <td>True</td>\n",
       "    </tr>\n",
       "    <tr>\n",
       "      <th>TETANU</th>\n",
       "      <td>Tetanus</td>\n",
       "      <td>07 Jan 2013</td>\n",
       "      <td>2013-01-07</td>\n",
       "      <td>False</td>\n",
       "    </tr>\n",
       "  </tbody>\n",
       "</table>\n",
       "</div>"
      ],
      "text/plain": [
       "                             vaccine            vax_date       date  \\\n",
       "vaccine_matching                                                      \n",
       "TETANU                       Tetanus         18 Jul 2010 2010-07-18   \n",
       "PNEUMO                  PNEUMOCOCCAL  06 Mar 2011 @ 0900 2011-03-06   \n",
       "PNEUMO                     PNEUMOVAX  06 Mar 2011 @ 0900 2011-03-06   \n",
       "INFLUE            INFLUENZA-H1N1-09,  01 Oct 2012 @ 1200 2012-10-01   \n",
       "INFLUE            INFLUENZA-H1N1-09,  07 Dec 2012 @ 1155 2012-12-07   \n",
       "TETANU                       TETANUS  07 Dec 2012 @ 1155 2012-12-07   \n",
       "TETANU                       Tetanus         07 Jan 2013 2013-01-07   \n",
       "\n",
       "                  clinically_documented  \n",
       "vaccine_matching                         \n",
       "TETANU                            False  \n",
       "PNEUMO                             True  \n",
       "PNEUMO                             True  \n",
       "INFLUE                             True  \n",
       "INFLUE                             True  \n",
       "TETANU                             True  \n",
       "TETANU                            False  "
      ]
     },
     "execution_count": 16,
     "metadata": {},
     "output_type": "execute_result"
    }
   ],
   "source": [
    "vax_df.set_index('vaccine_matching')"
   ]
  },
  {
   "cell_type": "code",
   "execution_count": 17,
   "id": "43f62d8c-5387-4346-b002-fc74041fd4d4",
   "metadata": {},
   "outputs": [
    {
     "data": {
      "text/plain": [
       "vaccine_matching\n",
       "INFLUE         [67]\n",
       "PNEUMO          [0]\n",
       "TETANU    [873, 31]\n",
       "Name: date, dtype: object"
      ]
     },
     "execution_count": 17,
     "metadata": {},
     "output_type": "execute_result"
    }
   ],
   "source": [
    "vax_df.groupby('vaccine_matching').date.apply(lambda x: [l.days for l in list(x - x.shift())[1:]])"
   ]
  },
  {
   "cell_type": "markdown",
   "id": "2bd3b21f-8b83-4a7f-92b1-5225c5e63572",
   "metadata": {},
   "source": [
    "## Medication reminders"
   ]
  },
  {
   "cell_type": "code",
   "execution_count": 18,
   "id": "4cc5d6b8-ec8b-45f0-b718-0285d14b068d",
   "metadata": {},
   "outputs": [],
   "source": [
    "search_string = \"Medication:\\s+(.*?)\\n+.*?Instructions:\\s+(.*?)\\n+.*?Status:\\s+(.*?)\\n+.*?Refills Remaining:\\s+(.*?)\\nLast Filled On:\\s+(.*?)\\nInitially Ordered On:\\s+(.*?)\\nQuantity:\\s+(.*?)\\nDays Supply:\\s+(.*?)$\"\n",
    "results = re.findall(search_string, full_doc, re.MULTILINE)"
   ]
  },
  {
   "cell_type": "code",
   "execution_count": 20,
   "id": "a1c861d6-8f9f-4222-834f-3134ee6278bf",
   "metadata": {},
   "outputs": [],
   "source": [
    "medications = pd.DataFrame(results, columns = ['medication', 'directions', 'status', 'refills_remaining', 'last_filled_on', 'initially_ordered_on', 'quantity', 'days_supply'])"
   ]
  },
  {
   "cell_type": "code",
   "execution_count": 21,
   "id": "082b64d1-900a-4468-9a4e-bc86aca8f04f",
   "metadata": {},
   "outputs": [],
   "source": [
    "medications = medications.apply(lambda x: x.astype(str).str.upper())"
   ]
  },
  {
   "cell_type": "code",
   "execution_count": 22,
   "id": "dbeedf83-eb88-428c-ba9c-b0d44785cea8",
   "metadata": {},
   "outputs": [
    {
     "data": {
      "text/html": [
       "<div>\n",
       "<style scoped>\n",
       "    .dataframe tbody tr th:only-of-type {\n",
       "        vertical-align: middle;\n",
       "    }\n",
       "\n",
       "    .dataframe tbody tr th {\n",
       "        vertical-align: top;\n",
       "    }\n",
       "\n",
       "    .dataframe thead th {\n",
       "        text-align: right;\n",
       "    }\n",
       "</style>\n",
       "<table border=\"1\" class=\"dataframe\">\n",
       "  <thead>\n",
       "    <tr style=\"text-align: right;\">\n",
       "      <th></th>\n",
       "      <th>medication</th>\n",
       "      <th>directions</th>\n",
       "      <th>status</th>\n",
       "      <th>refills_remaining</th>\n",
       "      <th>last_filled_on</th>\n",
       "      <th>initially_ordered_on</th>\n",
       "      <th>quantity</th>\n",
       "      <th>days_supply</th>\n",
       "    </tr>\n",
       "  </thead>\n",
       "  <tbody>\n",
       "    <tr>\n",
       "      <th>0</th>\n",
       "      <td>ASPIRIN 81MG EC TAB</td>\n",
       "      <td>TAKE ONE TABLET BY MOUTH EVERY DAY</td>\n",
       "      <td>ACTIVE</td>\n",
       "      <td>3</td>\n",
       "      <td>14 OCT 2014</td>\n",
       "      <td>14 OCT 2014</td>\n",
       "      <td>30</td>\n",
       "      <td>30</td>\n",
       "    </tr>\n",
       "    <tr>\n",
       "      <th>1</th>\n",
       "      <td>ASPIRIN 325MG EC TAB</td>\n",
       "      <td>TAKE ONE TABLET BY MOUTH EVERY DAY</td>\n",
       "      <td>ACTIVE</td>\n",
       "      <td>11</td>\n",
       "      <td>24 SEP 2014</td>\n",
       "      <td>25 AUG 2014</td>\n",
       "      <td>1</td>\n",
       "      <td>1</td>\n",
       "    </tr>\n",
       "    <tr>\n",
       "      <th>2</th>\n",
       "      <td>AMLODIPINE BESYLATE 5MG TAB</td>\n",
       "      <td>TAKE ONE-HALF TABLET BY MOUTH EVERY DAY FOR BL...</td>\n",
       "      <td>EXPIRED</td>\n",
       "      <td>2</td>\n",
       "      <td>01 MAR 2013</td>\n",
       "      <td>10 DEC 2012</td>\n",
       "      <td>45</td>\n",
       "      <td>90</td>\n",
       "    </tr>\n",
       "    <tr>\n",
       "      <th>3</th>\n",
       "      <td>DONEPEZIL HCL 5MG TAB</td>\n",
       "      <td>TAKE ONE TABLET BY MOUTH EVERY MORNING</td>\n",
       "      <td>EXPIRED</td>\n",
       "      <td>10</td>\n",
       "      <td>16 FEB 2013</td>\n",
       "      <td>10 DEC 2012</td>\n",
       "      <td>30</td>\n",
       "      <td>30</td>\n",
       "    </tr>\n",
       "    <tr>\n",
       "      <th>4</th>\n",
       "      <td>HCTZ 25/TRIAMTERENE 37.5MG TAB</td>\n",
       "      <td>TAKE ONE-HALF TABLET (12.5/18.75 MG) BY MOUTH ...</td>\n",
       "      <td>EXPIRED</td>\n",
       "      <td>3</td>\n",
       "      <td>11 DEC 2012</td>\n",
       "      <td>10 DEC 2012</td>\n",
       "      <td>45</td>\n",
       "      <td>90</td>\n",
       "    </tr>\n",
       "  </tbody>\n",
       "</table>\n",
       "</div>"
      ],
      "text/plain": [
       "                        medication  \\\n",
       "0             ASPIRIN 81MG EC TAB    \n",
       "1            ASPIRIN 325MG EC TAB    \n",
       "2     AMLODIPINE BESYLATE 5MG TAB    \n",
       "3           DONEPEZIL HCL 5MG TAB    \n",
       "4  HCTZ 25/TRIAMTERENE 37.5MG TAB    \n",
       "\n",
       "                                          directions   status  \\\n",
       "0                TAKE ONE TABLET BY MOUTH EVERY DAY    ACTIVE   \n",
       "1                TAKE ONE TABLET BY MOUTH EVERY DAY    ACTIVE   \n",
       "2  TAKE ONE-HALF TABLET BY MOUTH EVERY DAY FOR BL...  EXPIRED   \n",
       "3            TAKE ONE TABLET BY MOUTH EVERY MORNING   EXPIRED   \n",
       "4  TAKE ONE-HALF TABLET (12.5/18.75 MG) BY MOUTH ...  EXPIRED   \n",
       "\n",
       "  refills_remaining last_filled_on initially_ordered_on quantity days_supply  \n",
       "0                 3    14 OCT 2014          14 OCT 2014       30          30  \n",
       "1                11    24 SEP 2014          25 AUG 2014        1           1  \n",
       "2                 2    01 MAR 2013          10 DEC 2012       45          90  \n",
       "3                10    16 FEB 2013          10 DEC 2012       30          30  \n",
       "4                 3    11 DEC 2012          10 DEC 2012       45          90  "
      ]
     },
     "execution_count": 22,
     "metadata": {},
     "output_type": "execute_result"
    }
   ],
   "source": [
    "medications.head()"
   ]
  },
  {
   "cell_type": "code",
   "execution_count": 23,
   "id": "64e36a3a-b9d3-42c7-a58c-ea5d879bd0ba",
   "metadata": {},
   "outputs": [
    {
     "data": {
      "text/html": [
       "<div>\n",
       "<style scoped>\n",
       "    .dataframe tbody tr th:only-of-type {\n",
       "        vertical-align: middle;\n",
       "    }\n",
       "\n",
       "    .dataframe tbody tr th {\n",
       "        vertical-align: top;\n",
       "    }\n",
       "\n",
       "    .dataframe thead th {\n",
       "        text-align: right;\n",
       "    }\n",
       "</style>\n",
       "<table border=\"1\" class=\"dataframe\">\n",
       "  <thead>\n",
       "    <tr style=\"text-align: right;\">\n",
       "      <th></th>\n",
       "      <th>medication</th>\n",
       "      <th>directions</th>\n",
       "      <th>status</th>\n",
       "      <th>refills_remaining</th>\n",
       "      <th>last_filled_on</th>\n",
       "      <th>initially_ordered_on</th>\n",
       "      <th>quantity</th>\n",
       "      <th>days_supply</th>\n",
       "    </tr>\n",
       "  </thead>\n",
       "  <tbody>\n",
       "    <tr>\n",
       "      <th>0</th>\n",
       "      <td>ASPIRIN 81MG EC TAB</td>\n",
       "      <td>TAKE ONE TABLET BY MOUTH EVERY DAY</td>\n",
       "      <td>ACTIVE</td>\n",
       "      <td>3</td>\n",
       "      <td>14 OCT 2014</td>\n",
       "      <td>14 OCT 2014</td>\n",
       "      <td>30</td>\n",
       "      <td>30</td>\n",
       "    </tr>\n",
       "    <tr>\n",
       "      <th>1</th>\n",
       "      <td>ASPIRIN 325MG EC TAB</td>\n",
       "      <td>TAKE ONE TABLET BY MOUTH EVERY DAY</td>\n",
       "      <td>ACTIVE</td>\n",
       "      <td>11</td>\n",
       "      <td>24 SEP 2014</td>\n",
       "      <td>25 AUG 2014</td>\n",
       "      <td>1</td>\n",
       "      <td>1</td>\n",
       "    </tr>\n",
       "  </tbody>\n",
       "</table>\n",
       "</div>"
      ],
      "text/plain": [
       "              medication                           directions  status  \\\n",
       "0   ASPIRIN 81MG EC TAB   TAKE ONE TABLET BY MOUTH EVERY DAY   ACTIVE   \n",
       "1  ASPIRIN 325MG EC TAB   TAKE ONE TABLET BY MOUTH EVERY DAY   ACTIVE   \n",
       "\n",
       "  refills_remaining last_filled_on initially_ordered_on quantity days_supply  \n",
       "0                 3    14 OCT 2014          14 OCT 2014       30          30  \n",
       "1                11    24 SEP 2014          25 AUG 2014        1           1  "
      ]
     },
     "execution_count": 23,
     "metadata": {},
     "output_type": "execute_result"
    }
   ],
   "source": [
    "medications[medications.status == 'ACTIVE']"
   ]
  },
  {
   "cell_type": "code",
   "execution_count": 24,
   "id": "e7f000b1-b044-48fc-b557-cb675f072479",
   "metadata": {},
   "outputs": [
    {
     "data": {
      "text/plain": [
       "'DAY'"
      ]
     },
     "execution_count": 24,
     "metadata": {},
     "output_type": "execute_result"
    }
   ],
   "source": [
    "re.findall(\"EVERY\\s(.*)\", \"TAKE ONE TABLET BY MOUTH EVERY DAY\")[0]"
   ]
  },
  {
   "cell_type": "code",
   "execution_count": 25,
   "id": "a02d1d8d-5d45-42ec-929c-d622b7dd5f74",
   "metadata": {},
   "outputs": [],
   "source": [
    "medications['time_delta'] = medications.directions.apply(lambda x: re.findall(\"EVERY\\s(.*)\", x))"
   ]
  },
  {
   "cell_type": "code",
   "execution_count": 26,
   "id": "1a28ab3a-4861-4986-9a71-d1f9418416de",
   "metadata": {},
   "outputs": [
    {
     "data": {
      "text/html": [
       "<div>\n",
       "<style scoped>\n",
       "    .dataframe tbody tr th:only-of-type {\n",
       "        vertical-align: middle;\n",
       "    }\n",
       "\n",
       "    .dataframe tbody tr th {\n",
       "        vertical-align: top;\n",
       "    }\n",
       "\n",
       "    .dataframe thead th {\n",
       "        text-align: right;\n",
       "    }\n",
       "</style>\n",
       "<table border=\"1\" class=\"dataframe\">\n",
       "  <thead>\n",
       "    <tr style=\"text-align: right;\">\n",
       "      <th></th>\n",
       "      <th>directions</th>\n",
       "      <th>time_delta</th>\n",
       "    </tr>\n",
       "  </thead>\n",
       "  <tbody>\n",
       "    <tr>\n",
       "      <th>0</th>\n",
       "      <td>TAKE ONE TABLET BY MOUTH EVERY DAY</td>\n",
       "      <td>[DAY ]</td>\n",
       "    </tr>\n",
       "    <tr>\n",
       "      <th>1</th>\n",
       "      <td>TAKE ONE TABLET BY MOUTH EVERY DAY</td>\n",
       "      <td>[DAY ]</td>\n",
       "    </tr>\n",
       "  </tbody>\n",
       "</table>\n",
       "</div>"
      ],
      "text/plain": [
       "                            directions time_delta\n",
       "0  TAKE ONE TABLET BY MOUTH EVERY DAY      [DAY ]\n",
       "1  TAKE ONE TABLET BY MOUTH EVERY DAY      [DAY ]"
      ]
     },
     "execution_count": 26,
     "metadata": {},
     "output_type": "execute_result"
    }
   ],
   "source": [
    "medications[medications.status == 'ACTIVE'][['directions', 'time_delta']]"
   ]
  },
  {
   "cell_type": "code",
   "execution_count": 29,
   "id": "6dc2bd27-d6a1-46c2-941c-7744893f2cd2",
   "metadata": {},
   "outputs": [
    {
     "data": {
      "text/plain": [
       "DatetimeIndex(['2021-12-12 20:00:34.296197', '2021-12-13 08:00:34.296197',\n",
       "               '2021-12-13 20:00:34.296197', '2021-12-14 08:00:34.296197',\n",
       "               '2021-12-14 20:00:34.296197', '2021-12-15 08:00:34.296197',\n",
       "               '2021-12-15 20:00:34.296197', '2021-12-16 08:00:34.296197',\n",
       "               '2021-12-16 20:00:34.296197', '2021-12-17 08:00:34.296197'],\n",
       "              dtype='datetime64[ns]', freq='12H')"
      ]
     },
     "execution_count": 29,
     "metadata": {},
     "output_type": "execute_result"
    }
   ],
   "source": [
    "pd.date_range('now', periods=10, freq=\"12H\")"
   ]
  },
  {
   "cell_type": "code",
   "execution_count": null,
   "id": "24aa7394-55ce-484f-871f-3f094e0f0bae",
   "metadata": {},
   "outputs": [],
   "source": []
  }
 ],
 "metadata": {
  "kernelspec": {
   "display_name": "Python 3 (ipykernel)",
   "language": "python",
   "name": "python3"
  },
  "language_info": {
   "codemirror_mode": {
    "name": "ipython",
    "version": 3
   },
   "file_extension": ".py",
   "mimetype": "text/x-python",
   "name": "python",
   "nbconvert_exporter": "python",
   "pygments_lexer": "ipython3",
   "version": "3.10.0"
  }
 },
 "nbformat": 4,
 "nbformat_minor": 5
}
